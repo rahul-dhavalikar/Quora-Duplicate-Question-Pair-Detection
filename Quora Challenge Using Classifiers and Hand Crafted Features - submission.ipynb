{
 "cells": [
  {
   "cell_type": "markdown",
   "metadata": {},
   "source": [
    "# Duplicate Question Pairs Detection"
   ]
  },
  {
   "cell_type": "markdown",
   "metadata": {},
   "source": [
    "__In this notebook, we implement our solution to \"Duplicate Question Pairs Detection\" with classifiers using hand-crafted features.__\n",
    "\n",
    "_This notebook is divided as follows_:\n",
    "> 1. Data Loading\n",
    "> 2. Feature Extraction\n",
    "> 3. Model Fitting\n",
    "> 4. Evaluation of our Models"
   ]
  },
  {
   "cell_type": "markdown",
   "metadata": {},
   "source": [
    "##### Import Statements"
   ]
  },
  {
   "cell_type": "code",
   "execution_count": 1,
   "metadata": {},
   "outputs": [
    {
     "name": "stderr",
     "output_type": "stream",
     "text": [
      "/home/shared/anaconda3/lib/python3.6/site-packages/fuzzywuzzy/fuzz.py:35: UserWarning: Using slow pure-python SequenceMatcher. Install python-Levenshtein to remove this warning\n",
      "  warnings.warn('Using slow pure-python SequenceMatcher. Install python-Levenshtein to remove this warning')\n"
     ]
    }
   ],
   "source": [
    "import sys\n",
    "from __future__ import unicode_literals\n",
    "import pandas as pd\n",
    "import pyemd as emd\n",
    "import numpy as np\n",
    "import os\n",
    "from gensim.models import KeyedVectors\n",
    "import gensim\n",
    "from nltk.tokenize import word_tokenize\n",
    "from scipy import spatial\n",
    "from sklearn.ensemble import RandomForestClassifier\n",
    "from sklearn.feature_extraction.text import TfidfVectorizer\n",
    "import re\n",
    "from nltk.corpus import stopwords\n",
    "import math\n",
    "from sklearn.model_selection import train_test_split\n",
    "from sklearn.metrics import accuracy_score\n",
    "from sklearn.metrics import precision_score\n",
    "from sklearn.metrics import recall_score\n",
    "from sklearn.metrics import f1_score\n",
    "from nltk.corpus import wordnet as wn\n",
    "from scipy.spatial.distance import cosine, cityblock, jaccard, canberra, euclidean, minkowski, braycurtis\n",
    "import spacy\n",
    "from xgboost import XGBClassifier\n",
    "from sklearn import svm\n",
    "from nltk.stem import PorterStemmer\n",
    "from sklearn.linear_model import LogisticRegression\n",
    "from sklearn import preprocessing\n",
    "from vaderSentiment.vaderSentiment import SentimentIntensityAnalyzer\n",
    "from sklearn.metrics import confusion_matrix\n",
    "import matplotlib.pyplot as plt\n",
    "from sklearn.metrics import classification_report\n",
    "import networkx as nx\n",
    "import pickle\n",
    "from fuzzywuzzy import fuzz\n",
    "from fuzzywuzzy import process\n",
    "from scipy.stats import skew, kurtosis\n",
    "from sklearn.preprocessing import StandardScaler\n",
    "import pickle\n",
    "import lightgbm as lgb\n",
    "from sklearn.metrics import recall_score\n",
    "from sklearn.metrics import precision_score\n",
    "from sklearn.metrics import f1_score\n",
    "from sklearn.metrics import accuracy_score\n",
    "from sklearn.metrics import precision_recall_curve\n",
    "from sklearn.metrics import roc_auc_score\n",
    "from sklearn.metrics import average_precision_score\n",
    "from sklearn.metrics import confusion_matrix\n",
    "import itertools"
   ]
  },
  {
   "cell_type": "markdown",
   "metadata": {},
   "source": [
    "##### Create Instances of PorterStemmer, Spacy, SentimentIntensityAnalyzer\n",
    "##### Create set of stop words"
   ]
  },
  {
   "cell_type": "code",
   "execution_count": 2,
   "metadata": {},
   "outputs": [],
   "source": [
    "ps = PorterStemmer()\n",
    "nlp = spacy.load('en')\n",
    "analyzer = SentimentIntensityAnalyzer()\n",
    "stop = set(stopwords.words('english'))"
   ]
  },
  {
   "cell_type": "markdown",
   "metadata": {},
   "source": [
    "## 1. Data Loading"
   ]
  },
  {
   "cell_type": "markdown",
   "metadata": {},
   "source": [
    "##### Load Train and Test Data"
   ]
  },
  {
   "cell_type": "code",
   "execution_count": 2,
   "metadata": {},
   "outputs": [],
   "source": [
    "df_test = pd.read_csv('data/test.csv', encoding=\"utf-8\").fillna(\"\")\n",
    "df_train = pd.read_csv('data/train.csv', encoding=\"utf-8\").fillna(\"\")"
   ]
  },
  {
   "cell_type": "markdown",
   "metadata": {},
   "source": [
    "##### Load Word2Vec Model"
   ]
  },
  {
   "cell_type": "code",
   "execution_count": 3,
   "metadata": {},
   "outputs": [],
   "source": [
    "w2v_model = KeyedVectors.load_word2vec_format('google_news_word_vectors/GoogleNews-vectors-negative300.bin', binary = True)"
   ]
  },
  {
   "cell_type": "markdown",
   "metadata": {},
   "source": [
    "__On inspecting the training and testing data, we observed that there is a qid associated with the questions in training data but they are not present in the testing data. Hence in this section we create a custom mapping of all train and test data to ID values__"
   ]
  },
  {
   "cell_type": "code",
   "execution_count": 5,
   "metadata": {},
   "outputs": [],
   "source": [
    "question_map = dict()"
   ]
  },
  {
   "cell_type": "markdown",
   "metadata": {},
   "source": [
    "##### Map Training Data"
   ]
  },
  {
   "cell_type": "code",
   "execution_count": 6,
   "metadata": {},
   "outputs": [],
   "source": [
    "for index, row in df_train.iterrows():\n",
    "    \n",
    "    question_id_1 = row[\"qid1\"]\n",
    "    question_id_2 = row[\"qid2\"]\n",
    "    \n",
    "    q1 = row['question1'].strip(' ')\n",
    "    q2 = row['question2'].strip(' ')\n",
    "    \n",
    "    if q1 not in question_map:\n",
    "        question_map[q1] = question_id_1\n",
    "        \n",
    "    if q2 not in question_map:\n",
    "        question_map[q2] = question_id_2\n",
    "        "
   ]
  },
  {
   "cell_type": "markdown",
   "metadata": {},
   "source": [
    "##### Map Testing Data"
   ]
  },
  {
   "cell_type": "code",
   "execution_count": null,
   "metadata": {
    "scrolled": true
   },
   "outputs": [],
   "source": [
    "count = max(question_map.values())\n",
    "\n",
    "for index, row in df_test.iterrows():\n",
    "    \n",
    "    q1 = row['question1'].strip(' ')\n",
    "    q2 = row['question2'].strip(' ')\n",
    "    \n",
    "    \n",
    "    if q1 not in question_map:\n",
    "        question_map[q1] = count + 1\n",
    "        count = count + 1\n",
    "        \n",
    "    if q2 not in question_map:\n",
    "        question_map[q2] = count + 1\n",
    "        count = count + 1\n",
    "        \n",
    "    if(index%500000 == 0):\n",
    "        print(index)\n",
    "        print(len(question_map))\n",
    "        print('\\n')"
   ]
  },
  {
   "cell_type": "markdown",
   "metadata": {},
   "source": [
    "## 2. Feature Extraction"
   ]
  },
  {
   "cell_type": "markdown",
   "metadata": {},
   "source": [
    "__In this section, we extract the features for our dataset.__\n",
    "\n",
    "For our dataset, we extract three kinds of features:\n",
    "> 1. Graph Based Features\n",
    "> 2. Language Based Features\n",
    "> 3. Similarity Based Features\n"
   ]
  },
  {
   "cell_type": "markdown",
   "metadata": {},
   "source": [
    "##### 1. Graph Based Features"
   ]
  },
  {
   "cell_type": "markdown",
   "metadata": {},
   "source": [
    "We extract the following graph based features from our data:\n",
    "> PageRank Scores of the Questions <br>\n",
    "> Common Neighbors of the Questions <br>\n",
    "> Degree of the Questions <br>"
   ]
  },
  {
   "cell_type": "markdown",
   "metadata": {},
   "source": [
    "#####  To represent our dataset as a graph, we create an adjecency list of all our questions as shown in the following code. <br>\n",
    "##### Degree of a node can be easily computed by computing the length of the adjacency list for any node"
   ]
  },
  {
   "cell_type": "code",
   "execution_count": 8,
   "metadata": {},
   "outputs": [
    {
     "name": "stdout",
     "output_type": "stream",
     "text": [
      "done\n",
      "done\n"
     ]
    }
   ],
   "source": [
    "#questions_map contains the mapping from question to its index in the train and test combined\n",
    "\n",
    "qid_graph = {}\n",
    "\n",
    "Data = [df_train, df_test]\n",
    "    \n",
    "for data in Data:\n",
    "    \n",
    "    for index, row in data.iterrows():\n",
    "        \n",
    "        q1 = row['question1'].strip(' ')\n",
    "        q2 = row['question2'].strip(' ')\n",
    "        \n",
    "        question_id_1 = question_map.get(q1)\n",
    "        question_id_2 = question_map.get(q2)\n",
    "\n",
    "        qid_graph.setdefault(question_id_1, []).append(question_id_2)\n",
    "        qid_graph.setdefault(question_id_2, []).append(question_id_1)\n",
    "     \n",
    "    print('done')"
   ]
  },
  {
   "cell_type": "code",
   "execution_count": 9,
   "metadata": {},
   "outputs": [],
   "source": [
    "def pagerank(qid_graph):\n",
    "\n",
    "    MAX_ITER = 20 \n",
    "    d = 0.85\n",
    "    \n",
    "    #Initializing -- every node gets a uniform value!\n",
    "    pagerank_dict = {i:1/len(qid_graph) for i in qid_graph}\n",
    "    num_nodes = len(pagerank_dict)\n",
    "    \n",
    "    for iter in range(0, MAX_ITER):\n",
    "        \n",
    "        for node in qid_graph:    \n",
    "            local_pr = 0\n",
    "            \n",
    "            for neighbor in qid_graph[node]:\n",
    "                local_pr += pagerank_dict[neighbor]/len(qid_graph[neighbor])\n",
    "            \n",
    "            pagerank_dict[node] = (1-d)/num_nodes + d*local_pr\n",
    "\n",
    "    return pagerank_dict\n",
    "\n",
    "pagerank_dict = pagerank(qid_graph)"
   ]
  },
  {
   "cell_type": "code",
   "execution_count": 2,
   "metadata": {},
   "outputs": [],
   "source": [
    "def common_neighbours(id1,id2):\n",
    "    \n",
    "    try:\n",
    "        list1 = qid_graph[id1]\n",
    "        list2 = qid_graph[id2]\n",
    "    except:\n",
    "        return 0\n",
    "    \n",
    "    return len(list(set(list1).intersection(list2)))"
   ]
  },
  {
   "cell_type": "markdown",
   "metadata": {},
   "source": [
    "##### 2. Language Based Features"
   ]
  },
  {
   "cell_type": "markdown",
   "metadata": {},
   "source": [
    "We extract the following language based features from our dataset:\n",
    "\n",
    "> 1. Word2vec embedding representation of sentence\n",
    "> 2. Dot product of Tfidf vectors of question pair\n",
    "> 3. Common entities in question pairs\n",
    "> 4. Common nouns in question pairs\n",
    "> 5. Jaccard similarity between embeddigs of question pair\n",
    "> 6. Canberra similarity between embeddigs of question pair\n",
    "> 7. Cityblock similarity between embeddigs of question pair\n",
    "> 8. Eucledian similarity between embeddigs of question pair\n",
    "> 9. Cosine similarity between embeddigs of question pair\n",
    "> 10. Minkowski similarity between embeddigs of question pair\n",
    "> 11. Braycurtis similarity between embeddigs of question pair\n",
    "> 12. Wordmover distance between embeddings\n",
    "> 13. Skew and kurtosis\n",
    "> 14. Sentiment of questions\n",
    "> 15. Common number of bigrams\n",
    "> 16. Fuzz ratio, partial ratio, token sort ratio of question pairs\n",
    "> 17. Type of question"
   ]
  },
  {
   "cell_type": "code",
   "execution_count": 14,
   "metadata": {},
   "outputs": [],
   "source": [
    "#Average Word2vec title\n",
    "def vector_title(sentence, w2v_model):\n",
    "    \n",
    "    sentence = word_tokenize(sentence)\n",
    "    sentence_new = []\n",
    "    \n",
    "    #Apply stemming\n",
    "    for word in sentence:\n",
    "        sentence_new.append(ps.stem(word))  \n",
    "    sentence = sentence_new \n",
    "    \n",
    "    if (len(sentence) == 0) or (type(sentence) == float):\n",
    "        return \"Error\"\n",
    "    \n",
    "    vec = np.zeros(300)\n",
    "    for w in sentence:\n",
    "        try:\n",
    "            vec += w2v_model[w]\n",
    "        except:\n",
    "            pass\n",
    "\n",
    "    return vec/len(sentence)\n",
    "\n",
    "\n",
    "def tfidf(d1, d2):\n",
    "    intersect = set(d1).intersection(set(d2))\n",
    "    if len(intersect) == 0:\n",
    "        return 0.0\n",
    "\n",
    "    tid = TfidfVectorizer(norm='l2',min_df=0, use_idf=True, \n",
    "            smooth_idf=False, sublinear_tf=True, tokenizer=tokenize)\n",
    "    try:\n",
    "        represent = tid.fit_transform([d1, d2]).toarray()\n",
    "    except ValueError:\n",
    "        return 0.0\n",
    "    \n",
    "    \n",
    "    # Taking dot product\n",
    "    product = 0\n",
    "    sum1 = 0\n",
    "    sum2 = 0\n",
    "    for i in range(len(represent[0])):\n",
    "        product += represent[0][i] * represent[1][i]\n",
    "        sum1 += pow(represent[0][i], 2)\n",
    "        sum2 += pow(represent[1][i], 2)\n",
    "\n",
    "    denom = math.sqrt(sum1 * sum2)\n",
    "    if int(denom) == 0:\n",
    "        return 0.0\n",
    "\n",
    "    return float(product)/denom\n",
    "\n",
    "\n",
    "\n",
    "def tokenize(d):\n",
    "    clean = re.sub(r'[^\\w]', ' ', d)\n",
    "    tk = clean.lower().split()\n",
    "    return [word for word in tk if word not in stop]\n",
    "\n",
    "\n",
    "#Statistics to measure the common entities in both the sentence.\n",
    "def common_ne_score(q1,q2):\n",
    "\n",
    "    q1 = nlp(q1)\n",
    "    q2 = nlp(q2)\n",
    "\n",
    "    q1_ne = q1.ents\n",
    "    q2_ne = q2.ents\n",
    "\n",
    "    q1_ne = set([str(i) for i in q1_ne])\n",
    "    q2_ne = set([str(i) for i in q2_ne])\n",
    "\n",
    "    common_ne = len(q1_ne.intersection(q2_ne))\n",
    "\n",
    "    if len(q1_ne) + len(q2_ne) == 0:\n",
    "        return 0\n",
    "    \n",
    "    return common_ne/(float)(len(q1_ne) + len(q2_ne) - common_ne)\n",
    "\n",
    "\n",
    "\n",
    "#Statistics to measure the common nouns in both the sentence.\n",
    "def common_chunk_score(q1,q2):\n",
    "\n",
    "    q1 = nlp(q1)\n",
    "    q2 = nlp(q2)\n",
    "\n",
    "    q1_nc = q1.noun_chunks\n",
    "    q2_nc = q2.noun_chunks\n",
    "\n",
    "    q1_nc = set([str(i) for i in q1_nc])\n",
    "    q2_nc = set([str(i) for i in q2_nc])\n",
    "\n",
    "    common_nc = len(q1_nc.intersection(q2_nc))\n",
    "\n",
    "    if len(q1_nc) + len(q2_nc) == 0:\n",
    "        return 0\n",
    "    \n",
    "    return common_nc/(float)(len(q1_nc) + len(q2_nc) - common_nc)\n",
    "\n",
    "\n",
    "def common_bigrams(q1, q2):\n",
    "    text = [q1]\n",
    "    q1_bigrams = [b for l in text for b in zip(l.split(\" \")[:-1], l.split(\" \")[1:])]\n",
    "    \n",
    "    text = [q2]\n",
    "    q2_bigrams = [b for l in text for b in zip(l.split(\" \")[:-1], l.split(\" \")[1:])]\n",
    "    \n",
    "    #print(q1_bigrams)\n",
    "    #print(q2_bigrams)\n",
    "\n",
    "    count = 0\n",
    "    for pair in q1_bigrams:\n",
    "        if pair in q2_bigrams:\n",
    "            count = count + 1\n",
    "    \n",
    "    return count\n",
    "    "
   ]
  },
  {
   "cell_type": "code",
   "execution_count": null,
   "metadata": {},
   "outputs": [],
   "source": []
  },
  {
   "cell_type": "code",
   "execution_count": 66,
   "metadata": {},
   "outputs": [],
   "source": [
    "def extract_features(df, w2v_model, nolabels=False):\n",
    "    \n",
    "    features = []\n",
    "    labels = []\n",
    "    for index, row in df.iterrows():\n",
    "            \n",
    "        q1 = row['question1']\n",
    "        q2 = row['question2']\n",
    "        \n",
    "        q1_index = question_map.get(q1)\n",
    "        q2_index = question_map.get(q2)      \n",
    "        \n",
    "        if q1 == \"\" or q2 == \"\":\n",
    "            current_feature = [0]*2\n",
    "            features.append(current_feature)            \n",
    "            continue\n",
    "        \n",
    "        if not nolabels:\n",
    "            label = row['is_duplicate']\n",
    "        else:\n",
    "            label = None\n",
    "        \n",
    "        if type(q1) == float or type(q2) == float:\n",
    "            current_feature = [0]*2\n",
    "            features.append(current_feature)            \n",
    "            continue\n",
    "\n",
    "        q1 = re.sub(r'[^\\w]', ' ', q1)\n",
    "        q2 = re.sub(r'[^\\w]', ' ', q2)\n",
    "\n",
    "        q1 = q1.lower()\n",
    "        q2 = q2.lower()\n",
    "        \n",
    "        \n",
    "        current_feature = []\n",
    "\n",
    "        q1_afv = vector_title(q1, w2v_model)\n",
    "        q2_afv = vector_title(q2, w2v_model)\n",
    "        \n",
    "        if q1_afv == \"Error\" or q2_afv == \"Error\":\n",
    "            \n",
    "            print('Error')\n",
    "            print(index)\n",
    "            current_feature = [0]*30\n",
    "            features.append(current_feature)\n",
    "            continue\n",
    "        \n",
    "        #Jaccard Similarity\n",
    "        qjac_sim = jaccard(q1_afv,q2_afv)     \n",
    "        \n",
    "        #Canberra Similarity\n",
    "        qcan_sim = canberra(q1_afv,q2_afv)       \n",
    "\n",
    "        #CityBlock Similarity\n",
    "        qcity_sim = cityblock(q1_afv,q2_afv)        \n",
    "  \n",
    "        #Eucledian Similarity\n",
    "        qeuc_sim = euclidean(q1_afv,q2_afv)\n",
    "\n",
    "        #Cosine Similarity\n",
    "        qcos_sim = cosine(q1_afv, q2_afv)    \n",
    "        \n",
    "        #Minowski Similarity\n",
    "        qmin_sim = minkowski(q1_afv, q2_afv)    \n",
    "        \n",
    "        #braycurtis Similarity\n",
    "        qbay_sim = braycurtis(q1_afv, q2_afv)    \n",
    "        \n",
    "        #WordMover's distance\n",
    "        mover_distance = w2v_model.wmdistance(q1, q2)\n",
    "        \n",
    "        \n",
    "        #Fuzzy Features\n",
    "        fuzz_ratio = fuzz.ratio(q1,q2)\n",
    "        fuzz_partialratio = fuzz.partial_ratio(q1,q2) \n",
    "        fuzz_tokenratio = fuzz.token_sort_ratio(q1,q2) \n",
    "        \n",
    "        #Skew and Kurtosis\n",
    "        q1_skew = skew(q1_afv)\n",
    "        q2_skew = skew(q2_afv)\n",
    "        q1_kurtosis = kurtosis(q1_afv)\n",
    "        q2_kurtosis = kurtosis(q2_afv)\n",
    "        \n",
    "        #Common number of bigrams\n",
    "        common_bigrams_count = common_bigrams(q1,q2)\n",
    "        \n",
    "        #Common NE Score\n",
    "        q_ne_score = common_ne_score(q1,q2)\n",
    "        \n",
    "        #Common Noun Score\n",
    "        q_noun_score = common_chunk_score(q1,q2)\n",
    "        \n",
    "        #TF-IDF\n",
    "        q_tfidf = tfidf(q1, q2)\n",
    "        \n",
    "        #Get the sentiment\n",
    "        q1_sentiment = analyzer.polarity_scores(q1)\n",
    "        q2_sentiment = analyzer.polarity_scores(q2)\n",
    "        #ratio = float(q1_sentiment['compound'])/q2_sentiment['compound']\n",
    "        \n",
    "        \n",
    "        #Features to check for (what,which,does,when,Can,Who,Will,Did) and (why, how)\n",
    "        if 'why' in q1.lower() or 'how' in q1.lower():\n",
    "            q1_question_type = 1\n",
    "        else:\n",
    "            q1_question_type = 0\n",
    "            \n",
    "            \n",
    "        if 'why' in q2.lower() or 'how' in q2.lower():\n",
    "            q2_question_type = 1\n",
    "        else:\n",
    "            q2_question_type = 0\n",
    "        \n",
    "           \n",
    "    \n",
    "        #==== Graph Features (Magic Features) =====#\n",
    "        \n",
    "        #Number of Common Neighbours\n",
    "        q_common_neighbours = common_neighbours(row['qid1'],row['qid2'])\n",
    "        \n",
    "        #Degree of each node\n",
    "        deg_1 = qid_graph.get(q1_index)\n",
    "        deg_2 = qid_graph.get(q2_index)  \n",
    "        \n",
    "        #Get the pagerank scores for each node\n",
    "        pagerank_1 = pagerank_dict.get(q1_index)\n",
    "        pagerank_2 = pagerank_dict.get(q2_index)\n",
    "\n",
    "        \n",
    "        \n",
    "        current_feature.extend([row['id']])\n",
    "        current_feature.extend([q1_index])\n",
    "        current_feature.extend([q2_index])\n",
    "        \n",
    "        \n",
    "        current_feature.extend([len(tokenize(q1))])\n",
    "        current_feature.extend([len(tokenize(q1))])\n",
    "        current_feature.extend([abs(len(tokenize(q1))-len(tokenize(q2)))])\n",
    "        \n",
    "        \n",
    "        current_feature.extend([1-qjac_sim]) \n",
    "        current_feature.extend([qcan_sim]) \n",
    "        current_feature.extend([qcity_sim]) \n",
    "        current_feature.extend([qeuc_sim])\n",
    "        current_feature.extend([qcos_sim])\n",
    "        current_feature.extend([qmin_sim])\n",
    "        current_feature.extend([qbay_sim])\n",
    "        current_feature.extend([mover_distance])\n",
    "        \n",
    "        current_feature.extend([fuzz_ratio])\n",
    "        current_feature.extend([fuzz_partialratio])\n",
    "        current_feature.extend([fuzz_tokenratio])\n",
    "        \n",
    "        current_feature.extend([q1_skew])\n",
    "        current_feature.extend([q2_skew])\n",
    "        current_feature.extend([q1_kurtosis])\n",
    "        current_feature.extend([q2_kurtosis])\n",
    "        \n",
    "        current_feature.extend([common_bigrams_count])\n",
    "        \n",
    "        current_feature.extend([q_ne_score])\n",
    "        current_feature.extend([q_noun_score])\n",
    "        current_feature.extend([q_tfidf])\n",
    "        current_feature.extend([q_common_neighbours])\n",
    "        current_feature.extend([q1_sentiment['compound']])\n",
    "        current_feature.extend([q2_sentiment['compound']])\n",
    "        \n",
    "        current_feature.extend([q1_question_type])\n",
    "        current_feature.extend([q2_question_type])\n",
    "\n",
    "        current_feature.extend([pagerank_1])\n",
    "        current_feature.extend([pagerank_2])       \n",
    "        \n",
    "        if math.isnan(qjac_sim) or math.isnan(qcan_sim) or math.isnan(qcity_sim) or math.isnan(qeuc_sim) or math.isnan(qcos_sim) or math.isnan(q_ne_score) or math.isnan(q_noun_score) or math.isnan(q_tfidf):        \n",
    "            print(\"Found Nan\")\n",
    "            current_feature = [0]*30\n",
    "            features.append(current_feature)\n",
    "        \n",
    "        else:\n",
    "            #Prepare Features\n",
    "            features.append(current_feature)\n",
    "            labels.append(label)\n",
    "        \n",
    "        \n",
    "        if len(features)%20000 == 0:\n",
    "            print('Progress...',index)\n",
    "       \n",
    "    return np.asarray(features), labels"
   ]
  },
  {
   "cell_type": "markdown",
   "metadata": {},
   "source": [
    "##### Check for any nan indices"
   ]
  },
  {
   "cell_type": "code",
   "execution_count": 107,
   "metadata": {},
   "outputs": [],
   "source": [
    "nanIndices = np.argwhere(np.isnan(features))"
   ]
  },
  {
   "cell_type": "code",
   "execution_count": null,
   "metadata": {},
   "outputs": [],
   "source": [
    "for entry in nanIndices:\n",
    "    print(entry)\n",
    "    features[entry[0], entry[1]] = -1"
   ]
  },
  {
   "cell_type": "markdown",
   "metadata": {},
   "source": [
    "##### Save the features"
   ]
  },
  {
   "cell_type": "code",
   "execution_count": 55,
   "metadata": {},
   "outputs": [],
   "source": [
    "pickle.dump(x, open( \"baseline_pickles_new/finalFeatures.p\", \"wb\" ) )"
   ]
  },
  {
   "cell_type": "code",
   "execution_count": 111,
   "metadata": {},
   "outputs": [],
   "source": [
    "finalFeatures = features"
   ]
  },
  {
   "cell_type": "code",
   "execution_count": 112,
   "metadata": {
    "scrolled": true
   },
   "outputs": [
    {
     "name": "stdout",
     "output_type": "stream",
     "text": [
      "(404290, 32)\n",
      "[[ 0.00000000e+00  1.00000000e+00  2.00000000e+00  7.00000000e+00\n",
      "   7.00000000e+00  1.00000000e+00  0.00000000e+00  7.53613668e+01\n",
      "   3.90879068e+00  2.82853518e-01  4.61144384e-02  2.82853518e-01\n",
      "   1.51061747e-01  2.93806295e-01  9.30000000e+01  1.00000000e+02\n",
      "   9.30000000e+01 -3.48890662e-02 -6.02397426e-02 -1.15610765e-01\n",
      "  -7.52179917e-02  1.10000000e+01  0.00000000e+00  8.00000000e-01\n",
      "   8.39926214e-01  0.00000000e+00  2.96000000e-01  2.96000000e-01\n",
      "   0.00000000e+00  0.00000000e+00  1.60851165e-07  3.04769172e-07]\n",
      " [ 1.00000000e+00  3.00000000e+00  4.00000000e+00  5.00000000e+00\n",
      "   5.00000000e+00  5.00000000e+00  0.00000000e+00  1.26539742e+02\n",
      "   7.72307764e+00  5.58875127e-01  1.80014401e-01  5.58875127e-01\n",
      "   3.15472520e-01  7.03441799e-01  6.60000000e+01  7.50000000e+01\n",
      "   6.30000000e+01 -1.01617794e-01  1.72510641e-02 -2.18512090e-01\n",
      "   4.13854600e-03  6.00000000e+00  0.00000000e+00  1.42857143e-01\n",
      "   3.31521398e-01  0.00000000e+00  3.40000000e-01  3.40000000e-01\n",
      "   0.00000000e+00  0.00000000e+00  8.19893828e-07  3.09732950e-07]\n",
      " [ 2.00000000e+00  5.00000000e+00  6.00000000e+00  6.00000000e+00\n",
      "   6.00000000e+00  1.00000000e+00  0.00000000e+00  1.32828897e+02\n",
      "   9.02722266e+00  6.53668204e-01  1.96136106e-01  6.53668204e-01\n",
      "   3.36755119e-01  6.07826025e-01  4.40000000e+01  4.70000000e+01\n",
      "   6.30000000e+01 -3.00739007e-02  3.39024286e-01 -1.77026835e-01\n",
      "  -1.43901277e-01  1.00000000e+00  0.00000000e+00  0.00000000e+00\n",
      "   1.67392826e-01  0.00000000e+00  3.18200000e-01  2.73200000e-01\n",
      "   1.00000000e+00  1.00000000e+00  3.04926023e-07  1.60915751e-07]\n",
      " [ 3.00000000e+00  7.00000000e+00  8.00000000e+00  3.00000000e+00\n",
      "   3.00000000e+00  6.00000000e+00  0.00000000e+00  1.88376899e+02\n",
      "   1.37758132e+01  9.95100261e-01  6.00007125e-01  9.95100261e-01\n",
      "   6.78369937e-01  1.19694947e+00  1.00000000e+01  1.40000000e+01\n",
      "   2.40000000e+01 -7.33515884e-02  7.51269140e-02 -3.23568272e-01\n",
      "   9.32172931e-02  0.00000000e+00  2.00000000e-01  0.00000000e+00\n",
      "   0.00000000e+00  0.00000000e+00 -2.48400000e-01  0.00000000e+00\n",
      "   1.00000000e+00  0.00000000e+00  2.08814608e-07  2.08814608e-07]\n",
      " [ 4.00000000e+00  9.00000000e+00  1.00000000e+01  1.00000000e+01\n",
      "   1.00000000e+01  5.00000000e+00  0.00000000e+00  1.46317746e+02\n",
      "   1.04365021e+01  7.47352199e-01  2.43976772e-01  7.47352199e-01\n",
      "   4.09992057e-01  8.87436190e-01  3.70000000e+01  5.60000000e+01\n",
      "   4.70000000e+01 -2.79936009e-02  7.32817216e-02 -1.13034896e-01\n",
      "  -4.65949933e-01  0.00000000e+00  0.00000000e+00  0.00000000e+00\n",
      "   1.23020166e-01  0.00000000e+00  0.00000000e+00  0.00000000e+00\n",
      "   0.00000000e+00  0.00000000e+00  3.40677528e-07  1.27847491e-07]\n",
      " [ 5.00000000e+00  1.10000000e+01  1.20000000e+01  8.00000000e+00\n",
      "   8.00000000e+00  1.00000000e+00  0.00000000e+00  1.33948261e+02\n",
      "   7.43499621e+00  5.24894333e-01  1.73710984e-01  5.24894333e-01\n",
      "   3.14923704e-01  3.46734772e-01  7.30000000e+01  7.30000000e+01\n",
      "   7.40000000e+01 -1.09346482e-01 -3.83353048e-02 -2.34398174e-01\n",
      "  -3.36813330e-01  6.00000000e+00  0.00000000e+00  3.33333333e-01\n",
      "   3.25220138e-01  0.00000000e+00  0.00000000e+00  0.00000000e+00\n",
      "   0.00000000e+00  0.00000000e+00  2.08814608e-07  2.08814608e-07]\n",
      " [ 6.00000000e+00  1.30000000e+01  1.40000000e+01  2.00000000e+00\n",
      "   2.00000000e+00  5.00000000e+00  0.00000000e+00  1.80753886e+02\n",
      "   1.54433777e+01  1.12698637e+00  5.79064558e-01  1.12698637e+00\n",
      "   6.44258958e-01  1.72537609e+00  2.00000000e+01  4.20000000e+01\n",
      "   2.30000000e+01  4.28718374e-02 -8.95937317e-03  4.34173487e-01\n",
      "  -3.71883837e-01  0.00000000e+00  0.00000000e+00  0.00000000e+00\n",
      "   0.00000000e+00  0.00000000e+00  0.00000000e+00  4.01900000e-01\n",
      "   0.00000000e+00  0.00000000e+00  2.08814608e-07  2.08814608e-07]\n",
      " [ 7.00000000e+00  1.50000000e+01  1.60000000e+01  2.00000000e+00\n",
      "   2.00000000e+00  0.00000000e+00  0.00000000e+00  1.02851089e+02\n",
      "   5.72592916e+00  4.22258950e-01  7.63889841e-02  4.22258950e-01\n",
      "   2.04687096e-01  6.61923469e-01  6.20000000e+01  6.70000000e+01\n",
      "   6.10000000e+01  1.97980573e-01  2.21851931e-01 -4.97041008e-02\n",
      "   5.79759272e-02  2.00000000e+00  0.00000000e+00  2.50000000e-01\n",
      "   2.58615292e-01  0.00000000e+00  4.40400000e-01  6.24900000e-01\n",
      "   1.00000000e+00  0.00000000e+00  2.08814608e-07  2.08814608e-07]\n",
      " [ 8.00000000e+00  1.70000000e+01  1.80000000e+01  4.00000000e+00\n",
      "   4.00000000e+00  2.00000000e+00  0.00000000e+00  1.99333333e+01\n",
      "   1.58511053e+00  1.15282047e-01  0.00000000e+00  1.15282047e-01\n",
      "   6.66666667e-02  2.02635697e-01  8.50000000e+01  9.00000000e+01\n",
      "   8.70000000e+01  1.99295970e-01  1.99295970e-01  1.71027033e-01\n",
      "   1.71027033e-01  4.00000000e+00  0.00000000e+00  5.00000000e-01\n",
      "   0.00000000e+00  1.00000000e+00  0.00000000e+00  0.00000000e+00\n",
      "   0.00000000e+00  0.00000000e+00  1.73025484e-07  2.49997970e-07]\n",
      " [ 9.00000000e+00  1.90000000e+01  2.00000000e+01  6.00000000e+00\n",
      "   6.00000000e+00  1.00000000e+00  0.00000000e+00  1.20851491e+02\n",
      "   9.13552682e+00  6.60544808e-01  1.75508744e-01  6.60544808e-01\n",
      "   3.06544630e-01  7.74556974e-01  5.00000000e+01  5.70000000e+01\n",
      "   4.40000000e+01 -3.61295216e-02  1.87833525e-01 -4.06127194e-01\n",
      "  -4.83520791e-01  1.00000000e+00  0.00000000e+00  2.00000000e-01\n",
      "   0.00000000e+00  0.00000000e+00  0.00000000e+00  5.10600000e-01\n",
      "   0.00000000e+00  1.00000000e+00  2.08814608e-07  2.08814608e-07]]\n"
     ]
    }
   ],
   "source": [
    "print(finalFeatures.shape)\n",
    "print(finalFeatures[0:10])"
   ]
  },
  {
   "cell_type": "code",
   "execution_count": 113,
   "metadata": {},
   "outputs": [],
   "source": [
    "min_max_scaler = preprocessing.MinMaxScaler()\n",
    "features_normalized = min_max_scaler.fit_transform(finalFeatures)"
   ]
  },
  {
   "cell_type": "code",
   "execution_count": 114,
   "metadata": {},
   "outputs": [],
   "source": [
    "pickle.dump(features_normalized, open( \"baseline_pickles_new/featuresNormalized.p\", \"wb\" ) )"
   ]
  },
  {
   "cell_type": "code",
   "execution_count": null,
   "metadata": {},
   "outputs": [],
   "source": [
    "labels = df_train['is_duplicate'].tolist()"
   ]
  },
  {
   "cell_type": "markdown",
   "metadata": {},
   "source": [
    "##### Split into training, validation and testing dataset"
   ]
  },
  {
   "cell_type": "code",
   "execution_count": 131,
   "metadata": {},
   "outputs": [],
   "source": [
    "train_size = 304205\n",
    "valid_size = 50000\n",
    "test_size = 50000\n",
    "test_size_unseen = df_test.shape[0]\n",
    "\n",
    "X_train = finalFeatures[0:train_size]\n",
    "X_valid = finalFeatures[train_size:train_size+valid_size]\n",
    "X_test = finalFeatures[train_size+valid_size:train_size+valid_size+test_size]\n",
    "\n",
    "y_train = labels[0:train_size]\n",
    "y_valid = labels[train_size:train_size+valid_size]\n",
    "y_test = labels[train_size+valid_size:train_size+valid_size+test_size]\n"
   ]
  },
  {
   "cell_type": "markdown",
   "metadata": {},
   "source": [
    "##### Run different models"
   ]
  },
  {
   "cell_type": "markdown",
   "metadata": {},
   "source": [
    "##### Random Forest Classifier"
   ]
  },
  {
   "cell_type": "code",
   "execution_count": null,
   "metadata": {},
   "outputs": [],
   "source": [
    "model = RandomForestClassifier(max_depth=15, max_features=32, random_state=0)"
   ]
  },
  {
   "cell_type": "markdown",
   "metadata": {},
   "source": [
    "##### XGBoost Classifier"
   ]
  },
  {
   "cell_type": "code",
   "execution_count": null,
   "metadata": {},
   "outputs": [],
   "source": [
    "model = XGBClassifier()"
   ]
  },
  {
   "cell_type": "markdown",
   "metadata": {},
   "source": [
    "##### Logistic Classifier"
   ]
  },
  {
   "cell_type": "code",
   "execution_count": null,
   "metadata": {},
   "outputs": [],
   "source": [
    "model = LogisticRegression(penalty = 'l1')"
   ]
  },
  {
   "cell_type": "markdown",
   "metadata": {},
   "source": [
    "##### Fit the model"
   ]
  },
  {
   "cell_type": "code",
   "execution_count": null,
   "metadata": {},
   "outputs": [],
   "source": [
    "model.fit(X_train, y_train)"
   ]
  },
  {
   "cell_type": "markdown",
   "metadata": {},
   "source": [
    "##### Save the predictions"
   ]
  },
  {
   "cell_type": "code",
   "execution_count": 218,
   "metadata": {},
   "outputs": [],
   "source": [
    "predictions_train = model.predict_proba(X_train)\n",
    "predictions_xgboost_train = predictions_train[:,1]\n",
    "pickle.dump( predictions_xgboost_train, open( \"baseline_pickles_new/predictions_full_xgboost_train.p\", \"wb\" ) )\n",
    "\n",
    "predictions_valid = model.predict_proba(X_valid)\n",
    "predictions_xgboost_valid = predictions_valid[:,1]\n",
    "pickle.dump( predictions_xgboost_valid, open( \"baseline_pickles_new/predictions_full_xgboost_valid.p\", \"wb\" ) )\n",
    "\n",
    "predictions_test = model.predict_proba(X_test)\n",
    "predictions_xgboost_test = predictions_test[:,1]\n",
    "pickle.dump( predictions_xgboost_test, open( \"baseline_pickles_new/predictions_full_xgboost_test.p\", \"wb\" ) )"
   ]
  },
  {
   "cell_type": "code",
   "execution_count": null,
   "metadata": {},
   "outputs": [],
   "source": [
    "predictions_test_bool = [prediction > 0.5 for prediction in predictions_test]"
   ]
  },
  {
   "cell_type": "markdown",
   "metadata": {},
   "source": [
    "##### LightGBM classifier"
   ]
  },
  {
   "cell_type": "code",
   "execution_count": 225,
   "metadata": {
    "scrolled": true
   },
   "outputs": [
    {
     "name": "stderr",
     "output_type": "stream",
     "text": [
      "/home/shared/anaconda3/lib/python3.6/site-packages/lightgbm/engine.py:99: UserWarning: Found `num_trees` in params. Will use it instead of argument\n",
      "  warnings.warn(\"Found `{}` in params. Will use it instead of argument\".format(alias))\n"
     ]
    },
    {
     "name": "stdout",
     "output_type": "stream",
     "text": [
      "[1]\tvalid_0's binary_error: 0.14498\n",
      "[2]\tvalid_0's binary_error: 0.14308\n",
      "[3]\tvalid_0's binary_error: 0.14414\n",
      "[4]\tvalid_0's binary_error: 0.1452\n",
      "[5]\tvalid_0's binary_error: 0.14326\n",
      "[6]\tvalid_0's binary_error: 0.14282\n",
      "[7]\tvalid_0's binary_error: 0.14222\n",
      "[8]\tvalid_0's binary_error: 0.142\n",
      "[9]\tvalid_0's binary_error: 0.14164\n",
      "[10]\tvalid_0's binary_error: 0.1418\n",
      "[11]\tvalid_0's binary_error: 0.14162\n",
      "[12]\tvalid_0's binary_error: 0.14074\n",
      "[13]\tvalid_0's binary_error: 0.14084\n",
      "[14]\tvalid_0's binary_error: 0.13968\n",
      "[15]\tvalid_0's binary_error: 0.1395\n",
      "[16]\tvalid_0's binary_error: 0.13936\n",
      "[17]\tvalid_0's binary_error: 0.13896\n",
      "[18]\tvalid_0's binary_error: 0.1385\n",
      "[19]\tvalid_0's binary_error: 0.13792\n",
      "[20]\tvalid_0's binary_error: 0.1376\n",
      "[21]\tvalid_0's binary_error: 0.13752\n",
      "[22]\tvalid_0's binary_error: 0.13698\n",
      "[23]\tvalid_0's binary_error: 0.1367\n",
      "[24]\tvalid_0's binary_error: 0.1362\n",
      "[25]\tvalid_0's binary_error: 0.1359\n",
      "[26]\tvalid_0's binary_error: 0.13604\n",
      "[27]\tvalid_0's binary_error: 0.13528\n",
      "[28]\tvalid_0's binary_error: 0.1351\n",
      "[29]\tvalid_0's binary_error: 0.1349\n",
      "[30]\tvalid_0's binary_error: 0.1348\n",
      "[31]\tvalid_0's binary_error: 0.13476\n",
      "[32]\tvalid_0's binary_error: 0.13432\n",
      "[33]\tvalid_0's binary_error: 0.13414\n",
      "[34]\tvalid_0's binary_error: 0.134\n",
      "[35]\tvalid_0's binary_error: 0.1335\n",
      "[36]\tvalid_0's binary_error: 0.13352\n",
      "[37]\tvalid_0's binary_error: 0.13338\n",
      "[38]\tvalid_0's binary_error: 0.13348\n",
      "[39]\tvalid_0's binary_error: 0.13312\n",
      "[40]\tvalid_0's binary_error: 0.13292\n",
      "[41]\tvalid_0's binary_error: 0.13276\n",
      "[42]\tvalid_0's binary_error: 0.13228\n",
      "[43]\tvalid_0's binary_error: 0.13192\n",
      "[44]\tvalid_0's binary_error: 0.13184\n",
      "[45]\tvalid_0's binary_error: 0.1318\n",
      "[46]\tvalid_0's binary_error: 0.13146\n",
      "[47]\tvalid_0's binary_error: 0.13136\n",
      "[48]\tvalid_0's binary_error: 0.13124\n",
      "[49]\tvalid_0's binary_error: 0.13094\n",
      "[50]\tvalid_0's binary_error: 0.13088\n",
      "[51]\tvalid_0's binary_error: 0.13052\n",
      "[52]\tvalid_0's binary_error: 0.13048\n",
      "[53]\tvalid_0's binary_error: 0.13024\n",
      "[54]\tvalid_0's binary_error: 0.12986\n",
      "[55]\tvalid_0's binary_error: 0.12966\n",
      "[56]\tvalid_0's binary_error: 0.12952\n",
      "[57]\tvalid_0's binary_error: 0.1292\n",
      "[58]\tvalid_0's binary_error: 0.12916\n",
      "[59]\tvalid_0's binary_error: 0.12888\n",
      "[60]\tvalid_0's binary_error: 0.12882\n",
      "[61]\tvalid_0's binary_error: 0.12878\n",
      "[62]\tvalid_0's binary_error: 0.12856\n",
      "[63]\tvalid_0's binary_error: 0.12832\n",
      "[64]\tvalid_0's binary_error: 0.12826\n",
      "[65]\tvalid_0's binary_error: 0.12812\n",
      "[66]\tvalid_0's binary_error: 0.128\n",
      "[67]\tvalid_0's binary_error: 0.12788\n",
      "[68]\tvalid_0's binary_error: 0.12792\n",
      "[69]\tvalid_0's binary_error: 0.12782\n",
      "[70]\tvalid_0's binary_error: 0.12776\n",
      "[71]\tvalid_0's binary_error: 0.12756\n",
      "[72]\tvalid_0's binary_error: 0.12744\n",
      "[73]\tvalid_0's binary_error: 0.12738\n",
      "[74]\tvalid_0's binary_error: 0.12736\n",
      "[75]\tvalid_0's binary_error: 0.12732\n",
      "[76]\tvalid_0's binary_error: 0.1274\n",
      "[77]\tvalid_0's binary_error: 0.12714\n",
      "[78]\tvalid_0's binary_error: 0.12692\n",
      "[79]\tvalid_0's binary_error: 0.12678\n",
      "[80]\tvalid_0's binary_error: 0.12662\n",
      "[81]\tvalid_0's binary_error: 0.12674\n",
      "[82]\tvalid_0's binary_error: 0.12658\n",
      "[83]\tvalid_0's binary_error: 0.1261\n",
      "[84]\tvalid_0's binary_error: 0.1261\n",
      "[85]\tvalid_0's binary_error: 0.12608\n",
      "[86]\tvalid_0's binary_error: 0.1259\n",
      "[87]\tvalid_0's binary_error: 0.12592\n",
      "[88]\tvalid_0's binary_error: 0.1258\n",
      "[89]\tvalid_0's binary_error: 0.12574\n",
      "[90]\tvalid_0's binary_error: 0.12562\n",
      "[91]\tvalid_0's binary_error: 0.12546\n",
      "[92]\tvalid_0's binary_error: 0.12542\n",
      "[93]\tvalid_0's binary_error: 0.12514\n",
      "[94]\tvalid_0's binary_error: 0.12514\n",
      "[95]\tvalid_0's binary_error: 0.125\n",
      "[96]\tvalid_0's binary_error: 0.12502\n",
      "[97]\tvalid_0's binary_error: 0.12496\n",
      "[98]\tvalid_0's binary_error: 0.12504\n",
      "[99]\tvalid_0's binary_error: 0.12486\n",
      "[100]\tvalid_0's binary_error: 0.12466\n"
     ]
    }
   ],
   "source": [
    "param = {'num_leaves':31, 'num_trees':100, 'objective':'binary'}\n",
    "param['metric'] = [\"binary_error\"]\n",
    "lgbDataTrain = lgb.Dataset(X_train, label = y_train)\n",
    "lgbDataValid = lgb.Dataset(X_valid, label = y_valid)\n",
    "lgbDataTest = lgb.Dataset(X_test, label = y_test)\n",
    "num_round = 10\n",
    "lgbmodel = lgb.train(param, lgbDataTrain, num_round, valid_sets=[lgbDataValid])"
   ]
  },
  {
   "cell_type": "code",
   "execution_count": 226,
   "metadata": {},
   "outputs": [],
   "source": [
    "predTrain = lgbmodel.predict(X_train)\n",
    "predValid = lgbmodel.predict(X_valid)\n",
    "predTest = lgbmodel.predict(X_test)"
   ]
  },
  {
   "cell_type": "code",
   "execution_count": 233,
   "metadata": {},
   "outputs": [],
   "source": [
    "pickle.dump( predTrain, open( \"baseline_pickles_new/predictions_full_LGBM_train.p\", \"wb\" ) )\n",
    "pickle.dump( predValid, open( \"baseline_pickles_new/predictions_full_LGBM_valid.p\", \"wb\" ) )\n",
    "pickle.dump( predTest, open( \"baseline_pickles_new/predictions_full_LGBM_test.p\", \"wb\" ) )"
   ]
  },
  {
   "cell_type": "code",
   "execution_count": 228,
   "metadata": {},
   "outputs": [],
   "source": [
    "predictions_test_bool = [prediction > 0.5 for prediction in predTest]"
   ]
  },
  {
   "cell_type": "markdown",
   "metadata": {},
   "source": [
    "##### Plot the results"
   ]
  },
  {
   "cell_type": "code",
   "execution_count": 230,
   "metadata": {},
   "outputs": [
    {
     "name": "stdout",
     "output_type": "stream",
     "text": [
      "Confusion matrix, without normalization\n",
      "[[30363  2030]\n",
      " [ 4080 13527]]\n"
     ]
    },
    {
     "data": {
      "image/png": "[encoded data removed]",
      "text/plain": [
       "<matplotlib.figure.Figure at 0x7f2015e1cf98>"
      ]
     },
     "metadata": {},
     "output_type": "display_data"
    }
   ],
   "source": [
    "\n",
    "def plot_confusion_matrix(cm, classes,\n",
    "\n",
    "                          normalize=False,\n",
    "\n",
    "                          title='Confusion matrix',\n",
    "\n",
    "                          cmap=plt.cm.Blues):\n",
    "\n",
    "    \"\"\"\n",
    "\n",
    "    This function prints and plots the confusion matrix.\n",
    "\n",
    "    Normalization can be applied by setting `normalize=True`.\n",
    "\n",
    "    \"\"\"\n",
    "\n",
    "    if normalize:\n",
    "\n",
    "        cm = cm.astype('float') / cm.sum(axis=1)[:, np.newaxis]\n",
    "\n",
    "        print(\"Normalized confusion matrix\")\n",
    "\n",
    "    else:\n",
    "\n",
    "        print('Confusion matrix, without normalization')\n",
    "\n",
    "\n",
    "\n",
    "    print(cm)\n",
    "\n",
    "\n",
    "\n",
    "    plt.imshow(cm, interpolation='nearest', cmap=cmap)\n",
    "\n",
    "    plt.title(title)\n",
    "\n",
    "    plt.colorbar()\n",
    "\n",
    "    tick_marks = np.arange(len(classes))\n",
    "\n",
    "    plt.xticks(tick_marks, classes, rotation=45)\n",
    "\n",
    "    plt.yticks(tick_marks, classes)\n",
    "\n",
    "\n",
    "\n",
    "    fmt = '.2f' if normalize else 'd'\n",
    "\n",
    "    thresh = cm.max() / 2.\n",
    "\n",
    "    for i, j in itertools.product(range(cm.shape[0]), range(cm.shape[1])):\n",
    "\n",
    "        plt.text(j, i, format(cm[i, j], fmt),\n",
    "\n",
    "                 horizontalalignment=\"center\",\n",
    "\n",
    "                 color=\"white\" if cm[i, j] > thresh else \"black\")\n",
    "\n",
    "\n",
    "\n",
    "    plt.tight_layout()\n",
    "\n",
    "    plt.ylabel('True label')\n",
    "\n",
    "    plt.xlabel('Predicted label')\n",
    "\n",
    "\n",
    "\n",
    "# Compute confusion matrix\n",
    "\n",
    "y_test = y_test\n",
    "\n",
    "y_pred = predictions_test_bool\n",
    "\n",
    "\n",
    "\n",
    "cnf_matrix = confusion_matrix(y_test, y_pred)\n",
    "\n",
    "\n",
    "\n",
    "np.set_printoptions(precision=2)\n",
    "\n",
    "\n",
    "\n",
    "# Plot non-normalized confusion matrix\n",
    "\n",
    "plt.figure()\n",
    "\n",
    "plot_confusion_matrix(cnf_matrix, classes=['Not duplicate','Duplicate'],\n",
    "\n",
    "                      title='Confusion matrix, without normalization')"
   ]
  },
  {
   "cell_type": "code",
   "execution_count": 231,
   "metadata": {},
   "outputs": [
    {
     "name": "stdout",
     "output_type": "stream",
     "text": [
      "Accuracy:  0.8778\n",
      "Recall:  0.7682739819390015\n",
      "Precision:  0.8695121167320178\n",
      "F1 score:  0.8157640815341938\n",
      "ROC AUC score:  0.8528030607994023\n",
      "Average precision-recall score: 0.92\n"
     ]
    },
    {
     "data": {
      "text/plain": [
       "Text(0.5,1,'2-class Precision-Recall curve: AP=0.92')"
      ]
     },
     "execution_count": 231,
     "metadata": {},
     "output_type": "execute_result"
    },
    {
     "data": {
      "image/png": "[encoded data removed]",
      "text/plain": [
       "<matplotlib.figure.Figure at 0x7f200510e518>"
      ]
     },
     "metadata": {},
     "output_type": "display_data"
    }
   ],
   "source": [
    "y_test = y_test\n",
    "\n",
    "y_pred = predictions_test_bool\n",
    "\n",
    "y_pred_prob = predictions_test[:,1]\n",
    "\n",
    "\n",
    "\n",
    "rec = recall_score(y_test, y_pred)\n",
    "\n",
    "prec = precision_score(y_test, y_pred)\n",
    "\n",
    "f1 = f1_score(y_test, y_pred)\n",
    "\n",
    "acc = accuracy_score(y_test, y_pred)\n",
    "\n",
    "roc_auc = roc_auc_score(y_test, y_pred)\n",
    "\n",
    "\n",
    "\n",
    "print(\"Accuracy: \", acc)\n",
    "\n",
    "print(\"Recall: \", rec)\n",
    "\n",
    "print(\"Precision: \", prec)\n",
    "\n",
    "print(\"F1 score: \", f1)\n",
    "\n",
    "print(\"ROC AUC score: \", roc_auc)\n",
    "\n",
    "\n",
    "\n",
    "\n",
    "\n",
    "\n",
    "average_precision = average_precision_score(y_test, predTest)\n",
    "\n",
    "\n",
    "\n",
    "print('Average precision-recall score: {0:0.2f}'.format(\n",
    "\n",
    "      average_precision))\n",
    "\n",
    "\n",
    "\n",
    "\n",
    "\n",
    "\n",
    "precision, recall, _ = precision_recall_curve(y_test, predTest)\n",
    "\n",
    "\n",
    "\n",
    "plt.step(recall, precision, color='b', alpha=0.2,\n",
    "\n",
    "         where='post')\n",
    "\n",
    "plt.fill_between(recall, precision, step='post', alpha=0.2,\n",
    "\n",
    "                 color='b')\n",
    "\n",
    "\n",
    "\n",
    "plt.xlabel('Recall')\n",
    "\n",
    "plt.ylabel('Precision')\n",
    "\n",
    "plt.ylim([0.0, 1.05])\n",
    "\n",
    "plt.xlim([0.0, 1.0])\n",
    "\n",
    "plt.title('2-class Precision-Recall curve: AP={0:0.2f}'.format(average_precision))"
   ]
  }
 ],
 "metadata": {
  "kernelspec": {
   "display_name": "Python 3",
   "language": "python",
   "name": "python3"
  },
  "language_info": {
   "codemirror_mode": {
    "name": "ipython",
    "version": 3
   },
   "file_extension": ".py",
   "mimetype": "text/x-python",
   "name": "python",
   "nbconvert_exporter": "python",
   "pygments_lexer": "ipython3",
   "version": "3.6.4"
  }
 },
 "nbformat": 4,
 "nbformat_minor": 2
}
