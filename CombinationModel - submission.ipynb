{
 "cells": [
  {
   "cell_type": "markdown",
   "metadata": {},
   "source": [
    "### MODEL ENSEMBLE"
   ]
  },
  {
   "cell_type": "code",
   "execution_count": 1,
   "metadata": {},
   "outputs": [
    {
     "name": "stderr",
     "output_type": "stream",
     "text": [
      "/home/shared/anaconda3/lib/python3.6/site-packages/h5py/__init__.py:36: FutureWarning: Conversion of the second argument of issubdtype from `float` to `np.floating` is deprecated. In future, it will be treated as `np.float64 == np.dtype(float).type`.\n",
      "  from ._conv import register_converters as _register_converters\n",
      "Using TensorFlow backend.\n"
     ]
    }
   ],
   "source": [
    "import pickle\n",
    "from time import time\n",
    "import pandas as pd\n",
    "import numpy as np\n",
    "from gensim.models import KeyedVectors\n",
    "import re\n",
    "from nltk.corpus import stopwords \n",
    "from sklearn.model_selection import train_test_split \n",
    "import matplotlib.pyplot as plt \n",
    "import seaborn as sns\n",
    "\n",
    "import itertools \n",
    "import datetime\n",
    "\n",
    "from keras.preprocessing.sequence import pad_sequences \n",
    "from keras.models import Model \n",
    "from keras.layers import Input, Embedding, LSTM, Merge \n",
    "import keras.backend as K \n",
    "from keras.optimizers import Adadelta \n",
    "from keras.callbacks import ModelCheckpoint \n",
    "from keras.models import Sequential \n",
    "from keras.layers import Dense\n",
    "from sklearn.metrics import recall_score\n",
    "from sklearn.metrics import precision_score\n",
    "from sklearn.metrics import f1_score\n",
    "from sklearn.metrics import accuracy_score\n",
    "from sklearn.metrics import precision_recall_curve\n",
    "from sklearn.metrics import roc_auc_score\n",
    "from sklearn.metrics import average_precision_score\n",
    "from sklearn.metrics import confusion_matrix\n",
    "import itertools"
   ]
  },
  {
   "cell_type": "markdown",
   "metadata": {},
   "source": [
    "##### Load the predictions from 5 models"
   ]
  },
  {
   "cell_type": "code",
   "execution_count": 96,
   "metadata": {},
   "outputs": [],
   "source": [
    "#load Training data\n",
    "lstmPredictions_train = pickle.load(open(r'model/predictions_lstm_full_run_train_csv_final.p', 'rb'))\n",
    "lstmPredictions_train = np.asarray(lstmPredictions_train)\n",
    "xgboostPredictions_train = pickle.load(open(r'baseline_pickles_new/predictions_full_XGB_train.p', 'rb'), encoding='iso-8859-1')\n",
    "rfPredictions_train = pickle.load(open(r'baseline_pickles_new/predictions_full_RF_train.p', 'rb'), encoding='iso-8859-1')\n",
    "lgbmPredictions_train = pickle.load(open(r'baseline_pickles_new/predictions_full_LGBM_train.p', 'rb'), encoding='iso-8859-1')\n",
    "lrPredictions_train = pickle.load(open(r'baseline_pickles_new/predictions_full_LR_train.p', 'rb'), encoding='iso-8859-1')\n",
    "\n",
    "\n",
    "#load Validation data\n",
    "lstmPredictions_valid = pickle.load(open(r'model/predictions_lstm_full_run_valid_csv_final.p', 'rb'))\n",
    "lstmPredictions_valid = np.asarray(lstmPredictions_valid)\n",
    "xgboostPredictions_valid = pickle.load(open(r'baseline_pickles_new/predictions_full_XGB_valid.p', 'rb'), encoding='iso-8859-1')\n",
    "rfPredictions_valid = pickle.load(open(r'baseline_pickles_new/predictions_full_RF_valid.p', 'rb'), encoding='iso-8859-1')\n",
    "lgbmPredictions_valid = pickle.load(open(r'baseline_pickles_new/predictions_full_LGBM_valid.p', 'rb'), encoding='iso-8859-1')\n",
    "lrPredictions_valid = pickle.load(open(r'baseline_pickles_new/predictions_full_LR_valid.p', 'rb'), encoding='iso-8859-1')\n",
    "\n",
    "\n",
    "#load Testing data\n",
    "lstmPredictions_test = pickle.load(open(r'model/predictions_lstm_full_run_test_csv_final.p', 'rb'))\n",
    "lstmPredictions_test = np.asarray(lstmPredictions_test)\n",
    "xgboostPredictions_test = pickle.load(open(r'baseline_pickles_new/predictions_full_XGB_test.p', 'rb'), encoding='iso-8859-1')\n",
    "rfPredictions_test = pickle.load(open(r'baseline_pickles_new/predictions_full_RF_test.p', 'rb'), encoding='iso-8859-1')\n",
    "lgbmPredictions_test = pickle.load(open(r'baseline_pickles_new/predictions_full_LGBM_test.p', 'rb'), encoding='iso-8859-1')\n",
    "lrPredictions_test = pickle.load(open(r'baseline_pickles_new/predictions_full_LR_test.p', 'rb'), encoding='iso-8859-1')\n"
   ]
  },
  {
   "cell_type": "markdown",
   "metadata": {},
   "source": [
    "##### Validate shapes"
   ]
  },
  {
   "cell_type": "code",
   "execution_count": 97,
   "metadata": {},
   "outputs": [
    {
     "name": "stdout",
     "output_type": "stream",
     "text": [
      "(304290,)\n",
      "<class 'numpy.ndarray'>\n",
      "(304290,)\n",
      "<class 'numpy.ndarray'>\n"
     ]
    }
   ],
   "source": [
    "print(lstmPredictions_train.shape)\n",
    "print(type(xgboostPredictions_train))\n",
    "print(lstmPredictions_train.shape)\n",
    "print(type(lstmPredictions_train))"
   ]
  },
  {
   "cell_type": "code",
   "execution_count": 15,
   "metadata": {},
   "outputs": [
    {
     "name": "stdout",
     "output_type": "stream",
     "text": [
      "(50000,)\n",
      "<class 'numpy.ndarray'>\n",
      "(50000,)\n",
      "<class 'numpy.ndarray'>\n"
     ]
    }
   ],
   "source": [
    "print(xgboostPredictions_test.shape)\n",
    "print(type(xgboostPredictions_test))\n",
    "print(lstmPredictions_test.shape)\n",
    "print(type(lstmPredictions_test))"
   ]
  },
  {
   "cell_type": "markdown",
   "metadata": {},
   "source": [
    "##### Construct input features for NN"
   ]
  },
  {
   "cell_type": "code",
   "execution_count": 193,
   "metadata": {},
   "outputs": [
    {
     "name": "stdout",
     "output_type": "stream",
     "text": [
      "(4, 304290)\n",
      "(304290, 4)\n",
      "(4, 50000)\n",
      "(50000, 4)\n",
      "(4, 50000)\n",
      "(50000, 4)\n"
     ]
    }
   ],
   "source": [
    "X_train = np.vstack((lstmPredictions_train.T, lgbmPredictions_train.T, rfPredictions_train.T, lrPredictions_train.T))\n",
    "print(X_train.shape)\n",
    "X_train = X_train.T\n",
    "print(X_train.shape)\n",
    "\n",
    "\n",
    "X_valid = np.vstack((lstmPredictions_valid.T, lgbmPredictions_valid.T, rfPredictions_valid.T, lrPredictions_valid.T))\n",
    "print(X_valid.shape)\n",
    "X_valid = X_valid.T\n",
    "print(X_valid.shape)\n",
    "\n",
    "\n",
    "X_test = np.vstack((lstmPredictions_test.T, lgbmPredictions_test.T, rfPredictions_test.T, lrPredictions_test.T))\n",
    "print(X_test.shape)\n",
    "X_test = X_test.T\n",
    "print(X_test.shape)"
   ]
  },
  {
   "cell_type": "markdown",
   "metadata": {},
   "source": [
    "##### Load labels"
   ]
  },
  {
   "cell_type": "code",
   "execution_count": 17,
   "metadata": {},
   "outputs": [],
   "source": [
    "train_df = pd.read_csv('data/train.csv', encoding=\"utf-8\").fillna(\"\")"
   ]
  },
  {
   "cell_type": "code",
   "execution_count": 18,
   "metadata": {},
   "outputs": [
    {
     "data": {
      "text/plain": [
       "(404290, 6)"
      ]
     },
     "execution_count": 18,
     "metadata": {},
     "output_type": "execute_result"
    }
   ],
   "source": [
    "train_df.shape"
   ]
  },
  {
   "cell_type": "code",
   "execution_count": null,
   "metadata": {},
   "outputs": [],
   "source": [
    "labels = train_df['is_duplicate']\n",
    "print(type(labels))\n",
    "labels = labels.as_matrix()"
   ]
  },
  {
   "cell_type": "markdown",
   "metadata": {},
   "source": [
    "##### Split dataset into training, validation and testing"
   ]
  },
  {
   "cell_type": "code",
   "execution_count": 103,
   "metadata": {},
   "outputs": [
    {
     "name": "stdout",
     "output_type": "stream",
     "text": [
      "(304290,)\n",
      "(50000,)\n",
      "(50000,)\n"
     ]
    }
   ],
   "source": [
    "train_size = 304290\n",
    "valid_size = 50000\n",
    "test_size = 50000\n",
    "\n",
    "Y_train = labels[0:train_size]\n",
    "print(Y_train.shape)\n",
    "\n",
    "\n",
    "Y_valid = labels[train_size:train_size+valid_size]\n",
    "print(Y_valid.shape)\n",
    "\n",
    "\n",
    "Y_test = labels[train_size+valid_size:train_size+valid_size+test_size]\n",
    "print(Y_test.shape)"
   ]
  },
  {
   "cell_type": "markdown",
   "metadata": {},
   "source": [
    "##### Build the model"
   ]
  },
  {
   "cell_type": "code",
   "execution_count": 194,
   "metadata": {},
   "outputs": [],
   "source": [
    "#create model\n",
    "combinedModel = Sequential()\n",
    "combinedModel.add(Dense(15, input_dim=X_train.shape[1], activation='elu'))\n",
    "combinedModel.add(Dense(5, activation='elu'))\n",
    "combinedModel.add(Dense(1, activation='sigmoid'))"
   ]
  },
  {
   "cell_type": "code",
   "execution_count": 196,
   "metadata": {},
   "outputs": [],
   "source": [
    "#compile model\n",
    "combinedModel.compile(loss=\"mse\", optimizer=\"adam\", metrics=[\"accuracy\"])"
   ]
  },
  {
   "cell_type": "markdown",
   "metadata": {},
   "source": [
    "##### Run the model"
   ]
  },
  {
   "cell_type": "code",
   "execution_count": 197,
   "metadata": {
    "scrolled": true
   },
   "outputs": [
    {
     "name": "stdout",
     "output_type": "stream",
     "text": [
      "Train on 304290 samples, validate on 50000 samples\n",
      "Epoch 1/20\n",
      "304290/304290 [==============================] - 19s 62us/step - loss: 0.0603 - acc: 0.9186 - val_loss: 0.0934 - val_acc: 0.8718\n",
      "Epoch 2/20\n",
      "304290/304290 [==============================] - 18s 60us/step - loss: 0.0558 - acc: 0.9229 - val_loss: 0.0970 - val_acc: 0.8657\n",
      "Epoch 3/20\n",
      "304290/304290 [==============================] - 18s 61us/step - loss: 0.0555 - acc: 0.9235 - val_loss: 0.0941 - val_acc: 0.8697\n",
      "Epoch 4/20\n",
      "304290/304290 [==============================] - 18s 61us/step - loss: 0.0553 - acc: 0.9238 - val_loss: 0.0954 - val_acc: 0.8680\n",
      "Epoch 5/20\n",
      "304290/304290 [==============================] - 18s 60us/step - loss: 0.0551 - acc: 0.9242 - val_loss: 0.0964 - val_acc: 0.8669\n",
      "Epoch 6/20\n",
      "304290/304290 [==============================] - 18s 61us/step - loss: 0.0550 - acc: 0.9243 - val_loss: 0.0959 - val_acc: 0.8670\n",
      "Epoch 7/20\n",
      "304290/304290 [==============================] - 18s 60us/step - loss: 0.0548 - acc: 0.9248 - val_loss: 0.0972 - val_acc: 0.8652\n",
      "Epoch 8/20\n",
      "304290/304290 [==============================] - 18s 61us/step - loss: 0.0546 - acc: 0.9248 - val_loss: 0.0992 - val_acc: 0.8617\n",
      "Epoch 9/20\n",
      "304290/304290 [==============================] - 19s 61us/step - loss: 0.0546 - acc: 0.9247 - val_loss: 0.0981 - val_acc: 0.8641\n",
      "Epoch 10/20\n",
      "304290/304290 [==============================] - 19s 61us/step - loss: 0.0545 - acc: 0.9249 - val_loss: 0.0975 - val_acc: 0.8641\n",
      "Epoch 11/20\n",
      "304290/304290 [==============================] - 19s 61us/step - loss: 0.0544 - acc: 0.9252 - val_loss: 0.0970 - val_acc: 0.8653\n",
      "Epoch 12/20\n",
      "304290/304290 [==============================] - 19s 61us/step - loss: 0.0544 - acc: 0.9248 - val_loss: 0.0972 - val_acc: 0.8643\n",
      "Epoch 13/20\n",
      "304290/304290 [==============================] - 18s 60us/step - loss: 0.0544 - acc: 0.9252 - val_loss: 0.0974 - val_acc: 0.8648\n",
      "Epoch 14/20\n",
      "304290/304290 [==============================] - 18s 60us/step - loss: 0.0544 - acc: 0.9248 - val_loss: 0.0997 - val_acc: 0.8612\n",
      "Epoch 15/20\n",
      "304290/304290 [==============================] - 18s 60us/step - loss: 0.0543 - acc: 0.9250 - val_loss: 0.0988 - val_acc: 0.8625\n",
      "Epoch 16/20\n",
      "304290/304290 [==============================] - 19s 61us/step - loss: 0.0543 - acc: 0.9253 - val_loss: 0.1003 - val_acc: 0.8599\n",
      "Epoch 17/20\n",
      "304290/304290 [==============================] - 18s 60us/step - loss: 0.0542 - acc: 0.9251 - val_loss: 0.0962 - val_acc: 0.8659\n",
      "Epoch 18/20\n",
      "304290/304290 [==============================] - 18s 61us/step - loss: 0.0541 - acc: 0.9255 - val_loss: 0.0976 - val_acc: 0.8629\n",
      "Epoch 19/20\n",
      "304290/304290 [==============================] - 19s 61us/step - loss: 0.0541 - acc: 0.9252 - val_loss: 0.0982 - val_acc: 0.8632\n",
      "Epoch 20/20\n",
      "304290/304290 [==============================] - 18s 61us/step - loss: 0.0541 - acc: 0.9255 - val_loss: 0.1004 - val_acc: 0.8597\n"
     ]
    },
    {
     "data": {
      "text/plain": [
       "<keras.callbacks.History at 0x7f72a14fa0b8>"
      ]
     },
     "execution_count": 197,
     "metadata": {},
     "output_type": "execute_result"
    }
   ],
   "source": [
    "#fit the model\n",
    "combinedModel.fit(X_train, Y_train, epochs=20, batch_size=64, validation_data=(X_valid, Y_valid))"
   ]
  },
  {
   "cell_type": "markdown",
   "metadata": {},
   "source": [
    "##### Evaluate the model"
   ]
  },
  {
   "cell_type": "code",
   "execution_count": 198,
   "metadata": {},
   "outputs": [],
   "source": [
    "#evaluate model\n",
    "predictions_test = combinedModel.predict(X_test)\n",
    "\n",
    "predictions_test = [item for sublist in predictions_test for item in sublist]\n",
    "\n",
    "predictions_test_bool = [(prediction > 0.5) for prediction in predictions_test]\n"
   ]
  },
  {
   "cell_type": "markdown",
   "metadata": {},
   "source": [
    "##### Plot results"
   ]
  },
  {
   "cell_type": "code",
   "execution_count": 199,
   "metadata": {},
   "outputs": [
    {
     "name": "stdout",
     "output_type": "stream",
     "text": [
      "Confusion matrix, without normalization\n",
      "[[27873  4521]\n",
      " [ 2652 14954]]\n"
     ]
    },
    {
     "data": {
      "image/png": "[encoded data removed]",
      "text/plain": [
       "<matplotlib.figure.Figure at 0x7f72a00948d0>"
      ]
     },
     "metadata": {},
     "output_type": "display_data"
    }
   ],
   "source": [
    "\n",
    "def plot_confusion_matrix(cm, classes,\n",
    "\n",
    "                          normalize=False,\n",
    "\n",
    "                          title='Confusion matrix',\n",
    "\n",
    "                          cmap=plt.cm.Blues):\n",
    "\n",
    "    \"\"\"\n",
    "\n",
    "    This function prints and plots the confusion matrix.\n",
    "\n",
    "    Normalization can be applied by setting `normalize=True`.\n",
    "\n",
    "    \"\"\"\n",
    "\n",
    "    if normalize:\n",
    "\n",
    "        cm = cm.astype('float') / cm.sum(axis=1)[:, np.newaxis]\n",
    "\n",
    "        print(\"Normalized confusion matrix\")\n",
    "\n",
    "    else:\n",
    "\n",
    "        print('Confusion matrix, without normalization')\n",
    "\n",
    "\n",
    "\n",
    "    print(cm)\n",
    "\n",
    "\n",
    "\n",
    "    plt.imshow(cm, interpolation='nearest', cmap=cmap)\n",
    "\n",
    "    plt.title(title)\n",
    "\n",
    "    plt.colorbar()\n",
    "\n",
    "    tick_marks = np.arange(len(classes))\n",
    "\n",
    "    plt.xticks(tick_marks, classes, rotation=45)\n",
    "\n",
    "    plt.yticks(tick_marks, classes)\n",
    "\n",
    "\n",
    "\n",
    "    fmt = '.2f' if normalize else 'd'\n",
    "\n",
    "    thresh = cm.max() / 2.\n",
    "\n",
    "    for i, j in itertools.product(range(cm.shape[0]), range(cm.shape[1])):\n",
    "\n",
    "        plt.text(j, i, format(cm[i, j], fmt),\n",
    "\n",
    "                 horizontalalignment=\"center\",\n",
    "\n",
    "                 color=\"white\" if cm[i, j] > thresh else \"black\")\n",
    "\n",
    "\n",
    "\n",
    "    plt.tight_layout()\n",
    "\n",
    "    plt.ylabel('True label')\n",
    "\n",
    "    plt.xlabel('Predicted label')\n",
    "\n",
    "\n",
    "\n",
    "# Compute confusion matrix\n",
    "\n",
    "y_test = Y_test\n",
    "\n",
    "y_pred = predictions_test_bool\n",
    "#y_pred = predictions_test\n",
    "\n",
    "\n",
    "cnf_matrix = confusion_matrix(y_test, y_pred)\n",
    "\n",
    "\n",
    "\n",
    "np.set_printoptions(precision=2)\n",
    "\n",
    "\n",
    "\n",
    "# Plot non-normalized confusion matrix\n",
    "\n",
    "plt.figure()\n",
    "\n",
    "plot_confusion_matrix(cnf_matrix, classes=['Not duplicate','Duplicate'],\n",
    "\n",
    "                      title='Confusion matrix, without normalization')"
   ]
  },
  {
   "cell_type": "code",
   "execution_count": 200,
   "metadata": {},
   "outputs": [
    {
     "name": "stdout",
     "output_type": "stream",
     "text": [
      "Accuracy:  0.85654\n",
      "Recall:  0.8493695331137112\n",
      "Precision:  0.7678562259306804\n",
      "F1 score:  0.8065586149240851\n",
      "ROC AUC score:  0.8549033255492616\n",
      "Average precision-recall score: 0.91\n"
     ]
    },
    {
     "data": {
      "text/plain": [
       "Text(0.5,1,'2-class Precision-Recall curve: AP=0.91')"
      ]
     },
     "execution_count": 200,
     "metadata": {},
     "output_type": "execute_result"
    },
    {
     "data": {
      "image/png": "[encoded data removed]",
      "text/plain": [
       "<matplotlib.figure.Figure at 0x7f72a008bd68>"
      ]
     },
     "metadata": {},
     "output_type": "display_data"
    }
   ],
   "source": [
    "\n",
    "y_test = y_test\n",
    "\n",
    "y_pred = predictions_test_bool\n",
    "\n",
    "y_pred_prob = predictions_test\n",
    "\n",
    "\n",
    "\n",
    "rec = recall_score(y_test, y_pred)\n",
    "\n",
    "prec = precision_score(y_test, y_pred)\n",
    "\n",
    "f1 = f1_score(y_test, y_pred)\n",
    "\n",
    "acc = accuracy_score(y_test, y_pred)\n",
    "\n",
    "roc_auc = roc_auc_score(y_test, y_pred)\n",
    "\n",
    "\n",
    "\n",
    "print(\"Accuracy: \", acc)\n",
    "\n",
    "print(\"Recall: \", rec)\n",
    "\n",
    "print(\"Precision: \", prec)\n",
    "\n",
    "print(\"F1 score: \", f1)\n",
    "\n",
    "print(\"ROC AUC score: \", roc_auc)\n",
    "\n",
    "\n",
    "\n",
    "\n",
    "\n",
    "average_precision = average_precision_score(y_test, y_pred_prob)\n",
    "\n",
    "\n",
    "\n",
    "print('Average precision-recall score: {0:0.2f}'.format(\n",
    "\n",
    "      average_precision))\n",
    "\n",
    "\n",
    "\n",
    "\n",
    "precision, recall, _ = precision_recall_curve(y_test, y_pred_prob)\n",
    "\n",
    "\n",
    "\n",
    "plt.step(recall, precision, color='b', alpha=0.2,\n",
    "\n",
    "         where='post')\n",
    "\n",
    "plt.fill_between(recall, precision, step='post', alpha=0.2,\n",
    "\n",
    "                 color='b')\n",
    "\n",
    "\n",
    "\n",
    "plt.xlabel('Recall')\n",
    "\n",
    "plt.ylabel('Precision')\n",
    "\n",
    "plt.ylim([0.0, 1.05])\n",
    "\n",
    "plt.xlim([0.0, 1.0])\n",
    "\n",
    "plt.title('2-class Precision-Recall curve: AP={0:0.2f}'.format(\n",
    "\n",
    "          average_precision))"
   ]
  }
 ],
 "metadata": {
  "kernelspec": {
   "display_name": "Python 3",
   "language": "python",
   "name": "python3"
  },
  "language_info": {
   "codemirror_mode": {
    "name": "ipython",
    "version": 3
   },
   "file_extension": ".py",
   "mimetype": "text/x-python",
   "name": "python",
   "nbconvert_exporter": "python",
   "pygments_lexer": "ipython3",
   "version": "3.6.4"
  }
 },
 "nbformat": 4,
 "nbformat_minor": 2
}
